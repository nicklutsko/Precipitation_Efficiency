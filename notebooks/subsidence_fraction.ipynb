{
 "cells": [
  {
   "cell_type": "code",
   "execution_count": 1,
   "metadata": {
    "collapsed": true
   },
   "outputs": [],
   "source": [
    "import numpy as np\n",
    "import matplotlib.pylab as plt\n",
    "from matplotlib.ticker import MultipleLocator, FormatStrFormatter\n",
    "%matplotlib inline"
   ]
  },
  {
   "cell_type": "code",
   "execution_count": 2,
   "metadata": {
    "collapsed": true
   },
   "outputs": [],
   "source": [
    "temp1 = [ 290., 292.5, 295., 297.5, 300., 302.5, 305., 307.5, 310., ]\n",
    "stemp1 = [ \"290\", \"292.5\", \"295\", \"297.5\", \"300\", \"302.5\", \"305\", \"307.5\", \"310\", ]\n",
    "\n",
    "t = len( temp1 )"
   ]
  },
  {
   "cell_type": "code",
   "execution_count": 12,
   "metadata": {
    "collapsed": false
   },
   "outputs": [],
   "source": [
    "sub_f = np.mean( np.load( \"../data/small_domain_subsidence_fractions.dat\" ), axis = 2 )\n",
    "sub_f2 =  np.load( \"../data/2D_walker_subsidence_fractions.dat\" )\n",
    "\n",
    "\n",
    "###############################333\n",
    "#The subsidence fractions are calculated using:\n",
    "\n",
    "#w500 = f1.variables['W500'][:, :]\n",
    "#sub_f[j, i] = np.sum( new_w500 < 0. ) / float( d1 * d2 / agg)\n",
    "\n",
    "#mw_w500 = f1.variables['W500'][:, :]\n",
    "\n",
    "#and for the 2D walker simulations the data are aggregated first:\n",
    "#agg = 64\n",
    "#d1, d2 = np.shape( mw_w500[0, 0] )\n",
    "#new_w500 = np.zeros( ( d1, d2 / agg ) )\n",
    "#for k in range( d2 / agg  ):\n",
    "#    new_w500[:, k] = np.mean( mw_w500[:, k * agg:(k + 1) * agg] )\n",
    "\n",
    "#sub_f2[j, i] = np.sum( new_w500 < 0. ) / float( d1 * d2 / agg)\n"
   ]
  },
  {
   "cell_type": "code",
   "execution_count": 15,
   "metadata": {
    "collapsed": false
   },
   "outputs": [
    {
     "data": {
      "image/png": "[encoded data removed]",
      "text/plain": [
       "<matplotlib.figure.Figure at 0xa7aa3b6c>"
      ]
     },
     "metadata": {},
     "output_type": "display_data"
    }
   ],
   "source": [
    "fig = plt.figure( figsize = (14, 6) )\n",
    "plt.subplots_adjust(left = .07, right = 0.95, bottom = 0.1, top = 0.92, hspace = 0.3, wspace = 0.3)\n",
    "\n",
    "ax = plt.subplot(1, 2, 1 )\n",
    "plt.title( \"a) Small Domain\", fontsize = 14 )\n",
    "\n",
    "plt.plot( temp1, sub_f[0, :], 'o', markerfacecolor = 'None', markeredgecolor = 'k', markeredgewidth = 2., markersize = 8)\n",
    "plt.plot( temp1, sub_f[1, :], 'v', markerfacecolor = 'None', markeredgecolor = 'k', markeredgewidth = 2., markersize = 8)\n",
    "plt.plot( temp1, sub_f[2, :], 'D', markerfacecolor = 'None', markersize = 8, markeredgecolor = 'r', markeredgewidth = 2. )\n",
    "plt.legend( [\"K03\", \"NA5\", \"M05\"], frameon = False, ncol = 1, loc = \"upper left\" )\n",
    "\n",
    "plt.xlabel( \"SST [K]\", fontsize = 14 )\n",
    "plt.ylabel( \"Subsidence Fraction\", fontsize = 14 )\n",
    "\n",
    "ax.tick_params( axis = 'x', which = 'both', bottom=\"on\", top = \"off\", labelbottom = \"on\", direction = 'out')                  \n",
    "ax.tick_params( axis = 'y', which = 'both', bottom=\"off\", top=\"off\",  labelbottom=\"off\", left=\"on\", right=\"off\", labelleft=\"on\", direction = 'out')                                                                                        \n",
    "\n",
    "ax.tick_params(length = 5, which = 'both')\n",
    "\n",
    "ax.spines[\"top\"].set_visible(False)    \n",
    "ax.spines[\"right\"].set_visible(False) \n",
    "\n",
    "plt.xlim([289., 311.])\n",
    "majorLocator = MultipleLocator(5)\n",
    "minorLocator = MultipleLocator(2.5)\n",
    "ax.xaxis.set_major_locator(majorLocator)\n",
    "ax.xaxis.set_minor_locator(minorLocator)\n",
    "\n",
    "majorLocator = MultipleLocator(0.1)\n",
    "minorLocator = MultipleLocator(0.05)\n",
    "ax.yaxis.set_major_locator(majorLocator)\n",
    "ax.yaxis.set_minor_locator(minorLocator)\n",
    "plt.ylim([0.5, 1.])\n",
    "\n",
    "ax = plt.subplot(1, 2, 2 )\n",
    "plt.title(\"b) 2D Walker\", fontsize = 14 )\n",
    "\n",
    "plt.plot( temp1, sub_f2[0, :], 'o', markerfacecolor = 'None', markeredgecolor = 'k', markeredgewidth = 2., markersize = 8)\n",
    "plt.plot( temp1, sub_f2[1, :], 'v', markerfacecolor = 'None', markeredgecolor = 'k', markeredgewidth = 2., markersize = 8)\n",
    "plt.plot( temp1, sub_f2[2, :], 'D', markerfacecolor = 'None', markersize = 8, markeredgecolor = 'r', markeredgewidth = 2. )\n",
    "\n",
    "plt.xlabel( \"SST [K]\", fontsize = 14 )\n",
    "plt.ylabel( \"Subsidence Fraction\", fontsize = 14 )\n",
    "\n",
    "ax.tick_params( axis = 'x', which = 'both', bottom=\"on\", top = \"off\", labelbottom = \"on\", direction = 'out')                  \n",
    "ax.tick_params( axis = 'y', which = 'both', bottom=\"off\", top=\"off\",  labelbottom=\"off\", left=\"on\", right=\"off\", labelleft=\"on\", direction = 'out')                                                                                        \n",
    "\n",
    "ax.tick_params(length = 5, which = 'both')\n",
    "\n",
    "ax.spines[\"top\"].set_visible(False)    \n",
    "ax.spines[\"right\"].set_visible(False) \n",
    "\n",
    "plt.xlim([289., 311.])\n",
    "majorLocator = MultipleLocator(5)\n",
    "minorLocator = MultipleLocator(2.5)\n",
    "ax.xaxis.set_major_locator(majorLocator)\n",
    "ax.xaxis.set_minor_locator(minorLocator)\n",
    "\n",
    "majorLocator = MultipleLocator(0.1)\n",
    "minorLocator = MultipleLocator(0.05)\n",
    "ax.yaxis.set_major_locator(majorLocator)\n",
    "ax.yaxis.set_minor_locator(minorLocator)\n",
    "plt.ylim([0.5, 1.])\n",
    "\n",
    "plt.show()\n"
   ]
  },
  {
   "cell_type": "code",
   "execution_count": null,
   "metadata": {
    "collapsed": true
   },
   "outputs": [],
   "source": []
  }
 ],
 "metadata": {
  "kernelspec": {
   "display_name": "Python 2",
   "language": "python",
   "name": "python2"
  },
  "language_info": {
   "codemirror_mode": {
    "name": "ipython",
    "version": 2
   },
   "file_extension": ".py",
   "mimetype": "text/x-python",
   "name": "python",
   "nbconvert_exporter": "python",
   "pygments_lexer": "ipython2",
   "version": "2.7.12"
  }
 },
 "nbformat": 4,
 "nbformat_minor": 0
}
