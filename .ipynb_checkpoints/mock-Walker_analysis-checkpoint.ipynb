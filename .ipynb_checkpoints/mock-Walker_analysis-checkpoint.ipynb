{
 "cells": [
  {
   "cell_type": "code",
   "execution_count": 1,
   "metadata": {
    "collapsed": true
   },
   "outputs": [],
   "source": [
    "import numpy as np\n",
    "import matplotlib.pylab as plt\n",
    "from matplotlib.ticker import MultipleLocator, FormatStrFormatter\n",
    "%matplotlib inline"
   ]
  },
  {
   "cell_type": "code",
   "execution_count": null,
   "metadata": {
    "collapsed": true
   },
   "outputs": [],
   "source": [
    "#List of temperatures as floats and strings\n",
    "temp1 = [  290., 292.5, 295., 297.5, 300., 302.5, 305., 307.5, 310.]\n",
    "stemp1 = [\"290\", \"292.5\", \"295\", \"297.5\", \"300\", \"302.5\", \"305\", \"307.5\", \"310\"]\n",
    "\n",
    "t = len(temp1)"
   ]
  },
  {
   "cell_type": "code",
   "execution_count": null,
   "metadata": {
    "collapsed": true
   },
   "outputs": [],
   "source": [
    "t = len( temp1 )\n",
    "\n",
    "var = [\"qn\", \"qp\", \"u\"] #Variables to use\n",
    "v = len( var )\n",
    "\n",
    "labs = [ \"g kg$^{-1}$\", \"g kg$^{-1}$\", \"10$^3$ kgm$^{-1}$s$^{-1}$\" ] #Colorbar labels\n",
    "labels = [ \"Cloud Condensate\", \"Precipitation\", \"Streamfunction\" ] #panel labels\n",
    "\n",
    "def streamfunction( u, p ):\n",
    "    #Calculate overturning streamfunction\n",
    "    d1, d2 = np.shape( u )\n",
    "    s = np.zeros( ( d1, d2 ) )\n",
    "\n",
    "    for i in range( 1, d1 ):\n",
    "        s[ i, :] += np.trapz( u[:i, :], p[:i] * 100., axis = 0 )\n",
    "\n",
    "    return s / 9.8\n",
    "\n",
    "#Colorbar scales:\n",
    "v1 = np.arange( 0.02, 0.24, .01 )\n",
    "v2 = np.arange(  0.01, 0.15, .005 )\n",
    "v3 = np.arange( -60., 64., 4. )\n",
    "#Remove 0 contour\n",
    "ov3 = v3[:] \n",
    "v3 = np.zeros( len( ov3 ) - 1 )\n",
    "v3[:len( ov3 ) / 2] = ov3[:len( ov3 ) / 2]\n",
    "v3[len( ov3 ) / 2:] = ov3[len( ov3 ) / 2 + 1:]\n",
    "\n",
    "#Widths of precipitation > 2mm/day\n",
    "width = np.zeros( ( 3, 2 ) )\n",
    "width[0] = [9., 15.]\n",
    "width[1] = [5.5, 18.]\n",
    "width[2] = [8., 16.]\n",
    "\n",
    "fig = plt.figure( figsize = (15, 12) )\n",
    "plt.subplots_adjust(left = 0.07, right = 0.97, bottom = 0.06, top = 0.95, hspace = 0.4, wspace = 0.35)\n",
    "\n",
    "b = 0 #For keeping track of where the figures go\n",
    "\n",
    "fig_place = [1, 2, 3, 4, 5, 6, 7, 8, 9]\n",
    "\n",
    "press = np.load( \"data/2D_mock_walker_press.dat\")\n",
    "\n",
    "\n",
    "for i in range( 3 ):\n",
    "    a = 0 #For plotting the precip bars\n",
    "    dat = np.load( \"data/2D_mock_walker_\" + var[i] + \".dat\" )\n",
    "\n",
    "    for j in range( 3 ):\n",
    "        ax = plt.subplot(3, 3, fig_place[b] )\n",
    "        if j == 0:\n",
    "            plt.title( stemp1[j] + \"K\" + \" - \" + labels[i], fontsize = 14 )\n",
    "        else:\n",
    "            plt.title( stemp1[j] + \"K\", fontsize = 14 )\n",
    "\n",
    "        x = np.linspace( 0., len(dat[0] ) * 3., len(dat[0] ) )\n",
    "\n",
    "        if i == 0:\n",
    "            dat = (dat[:, :] + dat[:, ::-1]) / 2.\n",
    "            plt.contourf( x / 1000., press[j, i], dat, v1, cmap = plt.cm.Blues )\n",
    "            cb = plt.colorbar( ticks = np.arange( 0.02, 0.26, 0.06) )\n",
    "            y = [950., 950.]\n",
    "            plt.plot( width[a - 1], y, 'k', linewidth = 2. )\n",
    "        elif i == 1:\n",
    "            dat = (dat[:, :] + dat[:, ::-1]) / 2.\n",
    "            plt.contourf( x / 1000., press[j, i], dat, v2, cmap = plt.cm.Blues )\n",
    "            cb = plt.colorbar( ticks = np.arange( 0.02, 0.26, 0.06) )\n",
    "        elif i == 2:\n",
    "            dat = (dat[:, :] - dat[:, ::-1]) / 2.\n",
    "            st = streamfunction( dat, press[j, i] )\n",
    "            plt.contourf( x / 1000., press[j, i], st / 1000., v3, cmap = plt.cm.seismic )\n",
    "            cb = plt.colorbar(ticks = np.arange( -60., 80., 20.))\n",
    "\n",
    "        cb.set_label(\"[\" + labs[i] + \"]\", fontsize = 12)\n",
    "\n",
    "        plt.ylim([1000., 50.])\n",
    "        plt.xlim([0., max(x) / 1000.])\n",
    "\n",
    "        plt.xlabel(\"x [10$^3$ km]\", fontsize = 14)\n",
    "        plt.ylabel(\"Pressure [hPa]\", fontsize = 14)\n",
    "\n",
    "        ax.tick_params(axis = 'x', which = 'both', bottom=\"off\", top = \"off\", labelbottom = \"on\")                  \n",
    "        ax.tick_params(axis=\"y\", which=\"both\", bottom=\"off\", top=\"off\",  labelbottom=\"off\", left=\"off\", right=\"off\", labelleft=\"on\")    \n",
    "\n",
    "        a += 1\n",
    "        b += 1\n",
    "\n",
    "plt.show()"
   ]
  }
 ],
 "metadata": {
  "kernelspec": {
   "display_name": "Python 2",
   "language": "python",
   "name": "python2"
  },
  "language_info": {
   "codemirror_mode": {
    "name": "ipython",
    "version": 2
   },
   "file_extension": ".py",
   "mimetype": "text/x-python",
   "name": "python",
   "nbconvert_exporter": "python",
   "pygments_lexer": "ipython2",
   "version": "2.7.12"
  }
 },
 "nbformat": 4,
 "nbformat_minor": 0
}
